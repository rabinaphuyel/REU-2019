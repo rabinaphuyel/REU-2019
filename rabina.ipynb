{
 "cells": [
  {
   "cell_type": "code",
   "execution_count": 1,
   "metadata": {},
   "outputs": [
    {
     "name": "stderr",
     "output_type": "stream",
     "text": [
      "Using TensorFlow backend.\n",
      "WARNING: Logging before flag parsing goes to stderr.\n",
      "W0711 17:31:53.050554 139900382111488 deprecation_wrapper.py:119] From /home/rabina7/anaconda3/envs/opencv/lib/python2.7/site-packages/cleverhans/utils_tf.py:341: The name tf.GraphKeys is deprecated. Please use tf.compat.v1.GraphKeys instead.\n",
      "\n"
     ]
    }
   ],
   "source": [
    "# classifier and attacker\n",
    "# dataset: mnist\n",
    "# author: Ying Meng\n",
    "\n",
    "# ---------------------\n",
    "# import required packages\n",
    "# ---------------------\n",
    "from __future__ import division, absolute_import, print_function\n",
    "import numpy as np\n",
    "from keras.utils import np_utils\n",
    "from keras.datasets import mnist\n",
    "from tensorflow.keras import layers, models\n",
    "import tensorflow as tf\n",
    "import tensorflow.keras.backend as K\n",
    "from tensorflow.keras.models import load_model\n",
    "from cleverhans.evaluation import batch_eval\n",
    "import matplotlib.pyplot as plt\n",
    "from keras.preprocessing.image import ImageDataGenerator\n"
   ]
  },
  {
   "cell_type": "code",
   "execution_count": 2,
   "metadata": {},
   "outputs": [],
   "source": [
    "# parameters\n",
    "IMG_ROW = 28\n",
    "IMG_COL = 28\n",
    "LR = 0.001\n",
    "BATCH_SIZE = 128\n",
    "VAL_RATE = 0.2"
   ]
  },
  {
   "cell_type": "code",
   "execution_count": 3,
   "metadata": {},
   "outputs": [
    {
     "name": "stdout",
     "output_type": "stream",
     "text": [
      "(60000, 28, 28, 1)\n",
      "(60000, 10)\n",
      "(10000, 28, 28, 1)\n",
      "(10000, 10)\n"
     ]
    }
   ],
   "source": [
    "'''\n",
    "Load data\n",
    "@author: Ying Meng (y.meng201011(at)gmail(dot)com)\n",
    "'''\n",
    "(X_train, Y_train), (X_test, Y_test) = mnist.load_data()\n",
    "X_train = X_train.reshape(-1, IMG_ROW, IMG_COL, 1)\n",
    "X_test = X_test.reshape(-1, IMG_ROW, IMG_COL, 1)\n",
    "# cast pixels to floats, normalize to [0, 1] range\n",
    "X_train = X_train.astype('float32')\n",
    "X_test = X_test.astype('float32')\n",
    "X_train /= 255\n",
    "X_test /= 255\n",
    "\n",
    "# one-hot-encode the labels\n",
    "Y_train = np_utils.to_categorical(Y_train, 10)\n",
    "Y_test = np_utils.to_categorical(Y_test, 10)\n",
    "\n",
    "print(X_train.shape)\n",
    "print(Y_train.shape)\n",
    "print(X_test.shape)\n",
    "print(Y_test.shape)\n",
    "\n",
    "nb_train = int(len(X_train) * VAL_RATE)\n",
    "train_samples = X_train[:-nb_train]\n",
    "train_classes = Y_train[:-nb_train]\n",
    "val_samples = X_train[-nb_train:]\n",
    "val_classes = Y_train[-nb_train:]"
   ]
  },
  {
   "cell_type": "code",
   "execution_count": 4,
   "metadata": {},
   "outputs": [
    {
     "data": {
      "image/png": "[encoded data removed]",
      "text/plain": [
       "<Figure size 432x288 with 9 Axes>"
      ]
     },
     "metadata": {
      "needs_background": "light"
     },
     "output_type": "display_data"
    }
   ],
   "source": [
    "# define data preparation\n",
    "datagen = ImageDataGenerator(rotation_range=270)\n",
    "# fit parameters from data\n",
    "datagen.fit(X_train)\n",
    "# configure batch size and retrieve one batch of images\n",
    "for X_batch, y_batch in datagen.flow(X_train, Y_train, batch_size=9):\n",
    "    # create a grid of 3x3 image\n",
    "    for i in range(0, 9):\n",
    "        plt.subplot(330 + 1 + i)\n",
    "        plt.imshow(X_batch[i].reshape(28, 28), cmap=plt.get_cmap('gray'))\n",
    "    # show the plot\n",
    "    plt.show()\n",
    "    break"
   ]
  },
  {
   "cell_type": "code",
   "execution_count": 5,
   "metadata": {},
   "outputs": [
    {
     "data": {
      "image/png": "[encoded data removed]",
      "text/plain": [
       "<Figure size 432x288 with 9 Axes>"
      ]
     },
     "metadata": {
      "needs_background": "light"
     },
     "output_type": "display_data"
    }
   ],
   "source": [
    "# define data preparation\n",
    "datagen = ImageDataGenerator(rotation_range=270)\n",
    "# fit parameters from data\n",
    "datagen.fit(X_test)\n",
    "# configure batch size and retrieve one batch of images\n",
    "for X_batch, y_batch in datagen.flow(X_test, Y_test, batch_size=9):\n",
    "    # create a grid of 3x3 image\n",
    "    for i in range(0, 9):\n",
    "        plt.subplot(330 + 1 + i)\n",
    "        plt.imshow(X_batch[i].reshape(28, 28), cmap=plt.get_cmap('gray'))\n",
    "    # show the plot\n",
    "    plt.show()\n",
    "    break"
   ]
  },
  {
   "cell_type": "code",
   "execution_count": 6,
   "metadata": {},
   "outputs": [],
   "source": [
    "'''\n",
    "Define model structures for some datasets.\n",
    "@author: Ying Meng (y.meng201011(at)gmail(dot)com)\n",
    "'''\n",
    "# Set random seed\n",
    "np.random.seed(0)\n",
    "\n",
    "# datasets\n",
    "DATASETS = ['mnist', 'cifar']\n",
    "\n",
    "def cnn(dataset='mnist'):\n",
    "    \"\"\"\n",
    "    Takes in a parameter indicating which model type to use ('mnist', or\n",
    "    'cifar') and returns the appropriate Keras model.\n",
    "    :param dataset: A string indicating which dataset we are building\n",
    "                    a model for.\n",
    "    :return: The model; a Keras 'Sequential' instance.\n",
    "    \"\"\"\n",
    "    assert dataset in DATASETS, \"dataset parameter must be either 'mnist' or 'cifar'\"\n",
    "\n",
    "    if dataset == 'mnist':\n",
    "        # MNIST model\n",
    "        struct = [\n",
    "            layers.Conv2D(32, (3, 3), input_shape = (IMG_ROW, IMG_COL, 1)),\n",
    "            layers.Activation('relu'),\n",
    "            layers.MaxPooling2D(pool_size = (2, 2)),\n",
    "\n",
    "            layers.Conv2D(64, (3, 3)),\n",
    "            layers.Activation('relu'),\n",
    "            layers.MaxPooling2D(pool_size = (2, 2)),\n",
    "\n",
    "            layers.Flatten(),\n",
    "            layers.Dense(64 * 64),\n",
    "            layers.Dropout(rate = 0.4),\n",
    "            layers.Dense(10),\n",
    "            layers.Activation('softmax')\n",
    "        ]\n",
    "    elif dataset == 'cifar':\n",
    "        # CIFAR-10 model\n",
    "        raise NotImplementedError('Not ready yet.')\n",
    "\n",
    "    model = models.Sequential()\n",
    "    for layer in struct:\n",
    "        model.add(layer)\n",
    "\n",
    "    return model"
   ]
  },
  {
   "cell_type": "code",
   "execution_count": 7,
   "metadata": {},
   "outputs": [
    {
     "name": "stderr",
     "output_type": "stream",
     "text": [
      "W0711 17:31:54.620820 139900382111488 deprecation.py:506] From /home/rabina7/anaconda3/envs/opencv/lib/python2.7/site-packages/tensorflow/python/ops/init_ops.py:1251: calling __init__ (from tensorflow.python.ops.init_ops) with dtype is deprecated and will be removed in a future version.\n",
      "Instructions for updating:\n",
      "Call initializer instance with the dtype argument instead of passing it to the constructor\n"
     ]
    },
    {
     "name": "stdout",
     "output_type": "stream",
     "text": [
      "Train on 48000 samples, validate on 12000 samples\n",
      "Epoch 1/15\n",
      "48000/48000 [==============================] - 36s 742us/sample - loss: 0.1484 - acc: 0.9542 - val_loss: 0.0660 - val_acc: 0.9807\n",
      "Epoch 2/15\n",
      "48000/48000 [==============================] - 33s 681us/sample - loss: 0.0501 - acc: 0.9851 - val_loss: 0.0480 - val_acc: 0.9856\n",
      "Epoch 3/15\n",
      "48000/48000 [==============================] - 33s 680us/sample - loss: 0.0370 - acc: 0.9889 - val_loss: 0.0421 - val_acc: 0.9872\n",
      "Epoch 4/15\n",
      "48000/48000 [==============================] - 33s 684us/sample - loss: 0.0293 - acc: 0.9906 - val_loss: 0.0417 - val_acc: 0.9891\n",
      "Epoch 5/15\n",
      "48000/48000 [==============================] - 33s 691us/sample - loss: 0.0234 - acc: 0.9924 - val_loss: 0.0504 - val_acc: 0.9872\n",
      "Epoch 6/15\n",
      "48000/48000 [==============================] - 34s 700us/sample - loss: 0.0200 - acc: 0.9935 - val_loss: 0.0439 - val_acc: 0.9882\n",
      "Epoch 7/15\n",
      "48000/48000 [==============================] - 34s 710us/sample - loss: 0.0178 - acc: 0.9939 - val_loss: 0.0525 - val_acc: 0.9870\n",
      "Epoch 8/15\n",
      "48000/48000 [==============================] - 33s 697us/sample - loss: 0.0143 - acc: 0.9951 - val_loss: 0.0537 - val_acc: 0.9866\n",
      "Epoch 9/15\n",
      "48000/48000 [==============================] - 34s 712us/sample - loss: 0.0134 - acc: 0.9955 - val_loss: 0.0639 - val_acc: 0.9869\n",
      "Epoch 10/15\n",
      "48000/48000 [==============================] - 34s 706us/sample - loss: 0.0135 - acc: 0.9958 - val_loss: 0.0617 - val_acc: 0.9871\n",
      "Epoch 11/15\n",
      "48000/48000 [==============================] - 34s 703us/sample - loss: 0.0133 - acc: 0.9954 - val_loss: 0.0561 - val_acc: 0.9870\n",
      "Epoch 12/15\n",
      "48000/48000 [==============================] - 36s 742us/sample - loss: 0.0123 - acc: 0.9959 - val_loss: 0.0579 - val_acc: 0.9881\n",
      "Epoch 13/15\n",
      "48000/48000 [==============================] - 36s 744us/sample - loss: 0.0128 - acc: 0.9959 - val_loss: 0.0557 - val_acc: 0.9883\n",
      "Epoch 14/15\n",
      "48000/48000 [==============================] - 34s 716us/sample - loss: 0.0115 - acc: 0.9962 - val_loss: 0.0617 - val_acc: 0.9892\n",
      "Epoch 15/15\n",
      "48000/48000 [==============================] - 33s 689us/sample - loss: 0.0088 - acc: 0.9970 - val_loss: 0.0648 - val_acc: 0.9882\n",
      "Trained model has been saved to data/ \\subfolder\n"
     ]
    }
   ],
   "source": [
    "# Define the model\n",
    "model = cnn('mnist')\n",
    "model.compile(loss = 'categorical_crossentropy', \n",
    "              optimizer = 'adam', metrics = ['accuracy'])\n",
    "# Train the model\n",
    "model.fit(train_samples, train_classes, epochs = 15,\n",
    "          batch_size = BATCH_SIZE, shuffle = True,\n",
    "          verbose = 1, validation_data = (val_samples, val_classes))\n",
    "\n",
    "# Save the model\n",
    "model.save(\"data/mnist_rotate270_cnn.h5\")\n",
    "print(\"Trained model has been saved to data/ \\subfolder\")"
   ]
  },
  {
   "cell_type": "code",
   "execution_count": 8,
   "metadata": {},
   "outputs": [
    {
     "name": "stderr",
     "output_type": "stream",
     "text": [
      "W0711 17:40:24.386365 139900382111488 deprecation.py:506] From /home/rabina7/anaconda3/envs/opencv/lib/python2.7/site-packages/tensorflow/python/ops/init_ops.py:97: calling __init__ (from tensorflow.python.ops.init_ops) with dtype is deprecated and will be removed in a future version.\n",
      "Instructions for updating:\n",
      "Call initializer instance with the dtype argument instead of passing it to the constructor\n",
      "W0711 17:40:24.387974 139900382111488 deprecation.py:506] From /home/rabina7/anaconda3/envs/opencv/lib/python2.7/site-packages/tensorflow/python/ops/init_ops.py:97: calling __init__ (from tensorflow.python.ops.init_ops) with dtype is deprecated and will be removed in a future version.\n",
      "Instructions for updating:\n",
      "Call initializer instance with the dtype argument instead of passing it to the constructor\n"
     ]
    },
    {
     "name": "stdout",
     "output_type": "stream",
     "text": [
      "test acc: 98.970001936\n",
      "totalsamples:9969.112729638815\n",
      "predicate class: [7 2 1 ... 4 5 6], confidence: 9878.96381888, missclassified: 90.1489107609 \n",
      "misconf: 0.9042821884525489\n",
      "confidence: 99.09571781154744\n"
     ]
    }
   ],
   "source": [
    "# Load the trained model\n",
    "model = load_model(\"data/mnist_rotate270_cnn.h5\")\n",
    "\n",
    "_, acc = model.evaluate(X_test, Y_test, batch_size = BATCH_SIZE, verbose = 0)\n",
    "print ('test acc: {}'.format(100 * acc))\n",
    "#calculating confidence\n",
    "pred_prob = model.predict(X_test)\n",
    "pred_label = np.argmax(pred_prob, axis = 1)\n",
    "conf = np.max(pred_prob, axis = 1)\n",
    "true_labels = np.argmax(Y_test,axis=1)\n",
    "confidence = 0\n",
    "error_conf = 0\n",
    "num_tests = len(pred_prob)\n",
    "for i in range(num_tests):\n",
    "    if (true_labels[i] == pred_label[i]):\n",
    "        confidence += np.max(pred_prob[i])\n",
    "    else:\n",
    "        error_conf+= np.max(pred_prob[i])\n",
    "total_samples = (confidence + error_conf)\n",
    "print(\"totalsamples:\" + str(total_samples))\n",
    "print(\"predicate class: {}, confidence: {}, missclassified: {} \".format(pred_label, confidence, error_conf))\n",
    "averageconf = (100 * confidence/ total_samples)\n",
    "missclassified = (100 * error_conf/ total_samples)\n",
    "print(\"misconf: \" + str(missclassified))\n",
    "print(\"confidence: \" + str(averageconf))"
   ]
  },
  {
   "cell_type": "code",
   "execution_count": 9,
   "metadata": {},
   "outputs": [],
   "source": [
    "def fgsm(x, prediction, epsilon, y = None):\n",
    "    '''\n",
    "    Define the symbolic FGSM fitting tf framework\n",
    "    Ying Meng\n",
    "    '''\n",
    "    if y is None:\n",
    "        y = tf.to_float(tf.equal(prediction, \n",
    "                                tf.reduce_max(prediction, 1, keepdims = True)))\n",
    "        \n",
    "    y /= tf.reduce_sum(y, 1, keepdims = True)\n",
    "    \n",
    "    logits, = prediction.op.inputs\n",
    "    loss = tf.reduce_mean(\n",
    "        tf.nn.softmax_cross_entropy_with_logits_v2(logits = logits, labels = y))\n",
    "\n",
    "    \n",
    "    grad, = tf.gradients(loss, x)\n",
    "    perturbation = epsilon * tf.sign(grad)\n",
    "    adv_sample = tf.stop_gradient(x + perturbation)\n",
    "    \n",
    "    return adv_sample"
   ]
  },
  {
   "cell_type": "code",
   "execution_count": 10,
   "metadata": {},
   "outputs": [
    {
     "name": "stdout",
     "output_type": "stream",
     "text": [
      "test acc (on original): 0.986400008202\n"
     ]
    },
    {
     "data": {
      "image/png": "[encoded data removed]",
      "text/plain": [
       "<Figure size 432x288 with 9 Axes>"
      ]
     },
     "metadata": {
      "needs_background": "light"
     },
     "output_type": "display_data"
    },
    {
     "name": "stdout",
     "output_type": "stream",
     "text": [
      "test acc (on adversarial): 0.357800006866 - (epsilon: 0.25)\n",
      "adversarial examples were generated and saved to data/ \\subfolder\n"
     ]
    }
   ],
   "source": [
    "# Create TF session\n",
    "sess = tf.Session()\n",
    "K.set_session(sess)\n",
    "K.set_learning_phase(0)\n",
    "\n",
    "# define tf placeholders and operations\n",
    "x = tf.placeholder(tf.float32, shape = (None,) + X_test.shape[1:])\n",
    "y = tf.placeholder(tf.float32, shape = (None,) + Y_test.shape[1:])\n",
    "\n",
    "# load model\n",
    "model = load_model(\"data/mnist_cnn.h5\")\n",
    "\n",
    "# model accuracy\n",
    "_, acc_original = model.evaluate(X_test, Y_test, batch_size = BATCH_SIZE, verbose = 0)\n",
    "print('test acc (on original): {}'.format(acc_original))\n",
    "\n",
    "# symbolic fgsm\n",
    "epsilon = 0.25\n",
    "x_adv = fgsm(x, model(x), epsilon = epsilon, y = y)\n",
    "\n",
    "# craft adversarial examples\n",
    "X_adv, = batch_eval(sess, [x, y], [x_adv], [X_test, Y_test], batch_size = BATCH_SIZE)\n",
    "# define data preparation\n",
    "datagen = ImageDataGenerator(rotation_range=270)\n",
    "# fit parameters from data\n",
    "datagen.fit(X_adv)\n",
    "# configure batch size and retrieve one batch of images\n",
    "for X_batch, y_batch in datagen.flow(X_adv, Y_test, batch_size=9):\n",
    "    # create a grid of 3x3 image\n",
    "    for i in range(0, 9):\n",
    "        plt.subplot(330 + 1 + i)\n",
    "        plt.imshow(X_batch[i].reshape(28, 28), cmap=plt.get_cmap('gray'))\n",
    "    # show the plot\n",
    "    plt.show()\n",
    "    break\n",
    "# test accuracy on adversarial examples\n",
    "_, acc_adv = model.evaluate(X_adv, Y_test, batch_size = BATCH_SIZE, verbose = 0)\n",
    "print ('test acc (on adversarial): {} - (epsilon: {})'.format(acc_adv, epsilon))\n",
    "\n",
    "# save the generated adversarial examples\n",
    "np.save(\"data/adv_mnist_fgsm_eps25.npy\", X_adv)\n",
    "print('adversarial examples were generated and saved to data/ \\subfolder')\n",
    "#sess.close()"
   ]
  },
  {
   "cell_type": "code",
   "execution_count": 11,
   "metadata": {},
   "outputs": [
    {
     "name": "stdout",
     "output_type": "stream",
     "text": [
      "test acc (on original): 0.98970001936\n",
      "test acc (on adversarial): 0.673900008202 - (epsilon: 0.25)\n",
      "confidence: 0.705361727133767\n",
      "miss_conf: 0.29463827286623306\n",
      "error rate is: 0.329493785996\n"
     ]
    }
   ],
   "source": [
    "# Error Rate\n",
    "# 1. load the model\n",
    "model = load_model(\"data/mnist_rotate270_cnn.h5\")\n",
    "(X_train, Y_train), (X_test, Y_test) = mnist.load_data()\n",
    "Y_test=Y_test.reshape((10000,1))\n",
    "X_test=X_test.reshape((10000,28,28,1))\n",
    "X_train = X_train.astype('float32')\n",
    "X_test = X_test.astype('float32')\n",
    "X_train /= 255\n",
    "X_test /= 255\n",
    "Y_test = np_utils.to_categorical(Y_test, 10)\n",
    "_, acc_original = model.evaluate(X_test, Y_test, batch_size = BATCH_SIZE, verbose = 0)\n",
    "print('test acc (on original): {}'.format(acc_original))\n",
    "# 2. load the adversarial examples\n",
    "X_adv, = batch_eval(sess, [x, y], [x_adv], [X_test, Y_test], batch_size = BATCH_SIZE)\n",
    "_, acc_adv = model.evaluate(X_adv, Y_test, batch_size = BATCH_SIZE, verbose = 0)\n",
    "print ('test acc (on adversarial): {} - (epsilon: {})'.format(acc_adv, epsilon))\n",
    "adv_pred = model.predict(X_adv)\n",
    "ori_pred = model.predict(X_test)\n",
    "total_count = 0\n",
    "error_count = 0\n",
    "miss = 0\n",
    "confidence = 0\n",
    "adv_predict_labels = np.argmax(adv_pred,axis=1)\n",
    "ori_predict_labels = np.argmax(ori_pred,axis=1)\n",
    "true_labels = np.argmax(Y_test,axis=1)\n",
    "conf = np.max(adv_pred)\n",
    "num_tests = len(ori_pred)\n",
    "for i in range(num_tests):\n",
    "    # this means the original model could classify test sample i correctly\n",
    "    if (ori_predict_labels[i] == true_labels[i]):\n",
    "        total_count += 1\n",
    "    # this means the original model classify the adversarial example\n",
    "    # (test sample i + perturbation) into some label but not \"i\".\n",
    "    # That is, the attack is successful and the model fails in this case.\n",
    "    if (adv_predict_labels[i] != true_labels[i]):\n",
    "        error_count += 1\n",
    "    if(adv_predict_labels[i] == true_labels[i]):\n",
    "        \n",
    "        confidence += np.max(adv_pred[i])\n",
    "        \n",
    "    else:\n",
    "        miss+= np.max(adv_pred[i])\n",
    "\n",
    "    #print(\"predicate class: {}, True label: {}, totaladv: {}, counter: {}, confidence: {}, missclassified:{}\".format(adv_predict_labels[i], true_labels[i], total_count, error_count, confidence, miss))\n",
    "total_samples = (miss + confidence)\n",
    "averageconf = (1.0 * confidence/ total_samples)\n",
    "print(\"confidence: \" + str(averageconf))\n",
    "missclassified = (1.0 * miss/ total_samples)\n",
    "print(\"miss_conf: \" + str( missclassified))\n",
    "error_rate = (1.0 * error_count/total_count)\n",
    "print(\"error rate is: \" + str(error_rate))"
   ]
  }
 ],
 "metadata": {
  "kernelspec": {
   "display_name": "Python 2",
   "language": "python",
   "name": "python2"
  },
  "language_info": {
   "codemirror_mode": {
    "name": "ipython",
    "version": 2
   },
   "file_extension": ".py",
   "mimetype": "text/x-python",
   "name": "python",
   "nbconvert_exporter": "python",
   "pygments_lexer": "ipython2",
   "version": "2.7.16"
  }
 },
 "nbformat": 4,
 "nbformat_minor": 2
}
